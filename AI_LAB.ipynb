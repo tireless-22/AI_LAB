{
  "nbformat": 4,
  "nbformat_minor": 0,
  "metadata": {
    "colab": {
      "name": "AI_LAB.ipynb",
      "provenance": [],
      "authorship_tag": "ABX9TyNvQ1rd/bELnGSuc25gEMzD",
      "include_colab_link": true
    },
    "kernelspec": {
      "name": "python3",
      "display_name": "Python 3"
    },
    "language_info": {
      "name": "python"
    }
  },
  "cells": [
    {
      "cell_type": "markdown",
      "metadata": {
        "id": "view-in-github",
        "colab_type": "text"
      },
      "source": [
        "<a href=\"https://colab.research.google.com/github/tireless-22/AI_LAB/blob/main/AI_LAB.ipynb\" target=\"_parent\"><img src=\"https://colab.research.google.com/assets/colab-badge.svg\" alt=\"Open In Colab\"/></a>"
      ]
    },
    {
      "cell_type": "markdown",
      "source": [
        "AI LAB"
      ],
      "metadata": {
        "id": "AQNkoZ4d1BLZ"
      }
    },
    {
      "cell_type": "markdown",
      "source": [
        "WEEK1\n"
      ],
      "metadata": {
        "id": "J9KwFfMA1f8b"
      }
    },
    {
      "cell_type": "code",
      "source": [
        "import numpy as np\n",
        "\n",
        "import pandas as pd"
      ],
      "metadata": {
        "id": "WoYo7q7Y4LF2"
      },
      "execution_count": 52,
      "outputs": []
    },
    {
      "cell_type": "markdown",
      "source": [
        "a. To generate an array of random numbers from a normal distribution for the array of a\n",
        "given shape"
      ],
      "metadata": {
        "id": "g-beuKtq1jWE"
      }
    },
    {
      "cell_type": "code",
      "execution_count": 53,
      "metadata": {
        "colab": {
          "base_uri": "https://localhost:8080/"
        },
        "id": "SI0Dvu4fzoaK",
        "outputId": "9f7017e5-4258-41a4-f3b1-64c24afc2386"
      },
      "outputs": [
        {
          "output_type": "stream",
          "name": "stdout",
          "text": [
            "[35 23 91 71 32 14 72 32 87 30 65 50 71 53 57 98 32 19 94 16]\n"
          ]
        }
      ],
      "source": [
        "a=np.random.randint(1,100,20)\n",
        "# Here we generated 20 values in between the 1 and 100\n",
        "print(a)"
      ]
    },
    {
      "cell_type": "markdown",
      "source": [
        "b. Implement Arithmetic operations on two arrays (perform broadcasting also"
      ],
      "metadata": {
        "id": "A2_MagPd1p82"
      }
    },
    {
      "cell_type": "code",
      "source": [
        "normalList_a=[1,2,3,4]\n",
        "normalList_b=[5,6,7,8]\n",
        "# a is list here\n",
        "numpyArray_a=np.array(normalList_a)\n",
        "numpyArray_b=np.array(normalList_b)\n",
        "# print(type(numpyArray_a))\n",
        "\n",
        "# addition\n",
        "print(\"addition\")\n",
        "print(numpyArray_a+numpyArray_b)\n",
        "\n",
        "# substraction\n",
        "print(\"substraction\")\n",
        "print(numpyArray_a-numpyArray_b)\n",
        "\n",
        "# multiplication\n",
        "print(\"multiplication\")\n",
        "print(numpyArray_a*numpyArray_b)\n",
        "\n",
        "# division\n",
        "print(\"division\")\n",
        "print(numpyArray_a/numpyArray_b)\n",
        "\n"
      ],
      "metadata": {
        "colab": {
          "base_uri": "https://localhost:8080/"
        },
        "id": "ULLbGP6G1vfZ",
        "outputId": "4f5c9e48-ba08-4b7d-ab09-8a443f257271"
      },
      "execution_count": 54,
      "outputs": [
        {
          "output_type": "stream",
          "name": "stdout",
          "text": [
            "addition\n",
            "[ 6  8 10 12]\n",
            "substraction\n",
            "[-4 -4 -4 -4]\n",
            "multiplication\n",
            "[ 5 12 21 32]\n",
            "division\n",
            "[0.2        0.33333333 0.42857143 0.5       ]\n"
          ]
        }
      ]
    },
    {
      "cell_type": "markdown",
      "source": [
        "c Find minimum, maximum, mean in a given array. ( in both the axes )"
      ],
      "metadata": {
        "id": "CgwiUtTO10Ni"
      }
    },
    {
      "cell_type": "code",
      "source": [
        "a=np.random.randint(10,30,20)\n",
        "print(\"generated array\")\n",
        "print(a)\n",
        "print(\"minimum\")\n",
        "print(a.min())\n",
        "print(\"maximum\")\n",
        "print(a.max())\n",
        "print(\"mean\")\n",
        "print(a.mean())"
      ],
      "metadata": {
        "colab": {
          "base_uri": "https://localhost:8080/"
        },
        "id": "eNwxB5V012s3",
        "outputId": "547abe69-f540-4921-eb5a-89344a5907f3"
      },
      "execution_count": 55,
      "outputs": [
        {
          "output_type": "stream",
          "name": "stdout",
          "text": [
            "generated array\n",
            "[11 23 22 29 18 14 20 26 11 13 28 13 12 14 28 22 23 28 14 10]\n",
            "minimum\n",
            "10\n",
            "maximum\n",
            "29\n",
            "mean\n",
            "18.95\n"
          ]
        }
      ]
    },
    {
      "cell_type": "markdown",
      "source": [
        "d. Implement np.arange and np.linspace functions. "
      ],
      "metadata": {
        "id": "x-_F3m0v12_m"
      }
    },
    {
      "cell_type": "code",
      "source": [
        "# Arrange\n",
        "\n",
        "\n",
        "# first value is start and second is end\n",
        "# 3rd one is jump\n",
        "# 1st value is inclusive\n",
        "# 2nd value is exclusive\n",
        "a=np.arange(10)\n",
        "print(a)\n",
        "print()\n",
        "b=np.arange(1,51,2)\n",
        "print(b)"
      ],
      "metadata": {
        "colab": {
          "base_uri": "https://localhost:8080/"
        },
        "id": "BTtr4WG315y9",
        "outputId": "0d74bb44-1365-445f-ce3e-0a05fb48ad0a"
      },
      "execution_count": 56,
      "outputs": [
        {
          "output_type": "stream",
          "name": "stdout",
          "text": [
            "[0 1 2 3 4 5 6 7 8 9]\n",
            "\n",
            "[ 1  3  5  7  9 11 13 15 17 19 21 23 25 27 29 31 33 35 37 39 41 43 45 47\n",
            " 49]\n"
          ]
        }
      ]
    },
    {
      "cell_type": "code",
      "source": [
        "# linespace\n",
        "\n",
        "# both the start and end are inclusive\n",
        "# first value is starting value and\n",
        "# second value is the ending value\n",
        "# third one is no of samples,but it is optional\n",
        "# defaultly it is set to 50 samples\n",
        "# to know the step of the values,find the difference between the consecutive values\n",
        "\n",
        "a=np.linspace(2,9)\n",
        "print(\"created array\")\n",
        "print(a)\n",
        "print()\n",
        "print(\"step in the array\")\n",
        "print(a[1]-a[0])\n"
      ],
      "metadata": {
        "colab": {
          "base_uri": "https://localhost:8080/"
        },
        "id": "c29whBXy7gRo",
        "outputId": "c39f149b-c9cb-46bd-83b2-2206c70398fe"
      },
      "execution_count": 57,
      "outputs": [
        {
          "output_type": "stream",
          "name": "stdout",
          "text": [
            "created array\n",
            "[2.         2.14285714 2.28571429 2.42857143 2.57142857 2.71428571\n",
            " 2.85714286 3.         3.14285714 3.28571429 3.42857143 3.57142857\n",
            " 3.71428571 3.85714286 4.         4.14285714 4.28571429 4.42857143\n",
            " 4.57142857 4.71428571 4.85714286 5.         5.14285714 5.28571429\n",
            " 5.42857143 5.57142857 5.71428571 5.85714286 6.         6.14285714\n",
            " 6.28571429 6.42857143 6.57142857 6.71428571 6.85714286 7.\n",
            " 7.14285714 7.28571429 7.42857143 7.57142857 7.71428571 7.85714286\n",
            " 8.         8.14285714 8.28571429 8.42857143 8.57142857 8.71428571\n",
            " 8.85714286 9.        ]\n",
            "\n",
            "step in the array\n",
            "0.1428571428571428\n"
          ]
        }
      ]
    },
    {
      "cell_type": "markdown",
      "source": [
        "e. Create a pandas series from a given list\n"
      ],
      "metadata": {
        "id": "jVUyu7oE197m"
      }
    },
    {
      "cell_type": "code",
      "source": [
        "normalList_a=np.linspace(2,9)\n",
        "\n",
        "numpyArray_a = pd.Series(normalList_a)\n",
        "\n",
        "print(numpyArray_a)"
      ],
      "metadata": {
        "colab": {
          "base_uri": "https://localhost:8080/"
        },
        "id": "-S-tU5V-2MIn",
        "outputId": "806b432c-e340-41c2-f6fe-c55348888960"
      },
      "execution_count": 58,
      "outputs": [
        {
          "output_type": "stream",
          "name": "stdout",
          "text": [
            "0     2.000000\n",
            "1     2.142857\n",
            "2     2.285714\n",
            "3     2.428571\n",
            "4     2.571429\n",
            "5     2.714286\n",
            "6     2.857143\n",
            "7     3.000000\n",
            "8     3.142857\n",
            "9     3.285714\n",
            "10    3.428571\n",
            "11    3.571429\n",
            "12    3.714286\n",
            "13    3.857143\n",
            "14    4.000000\n",
            "15    4.142857\n",
            "16    4.285714\n",
            "17    4.428571\n",
            "18    4.571429\n",
            "19    4.714286\n",
            "20    4.857143\n",
            "21    5.000000\n",
            "22    5.142857\n",
            "23    5.285714\n",
            "24    5.428571\n",
            "25    5.571429\n",
            "26    5.714286\n",
            "27    5.857143\n",
            "28    6.000000\n",
            "29    6.142857\n",
            "30    6.285714\n",
            "31    6.428571\n",
            "32    6.571429\n",
            "33    6.714286\n",
            "34    6.857143\n",
            "35    7.000000\n",
            "36    7.142857\n",
            "37    7.285714\n",
            "38    7.428571\n",
            "39    7.571429\n",
            "40    7.714286\n",
            "41    7.857143\n",
            "42    8.000000\n",
            "43    8.142857\n",
            "44    8.285714\n",
            "45    8.428571\n",
            "46    8.571429\n",
            "47    8.714286\n",
            "48    8.857143\n",
            "49    9.000000\n",
            "dtype: float64\n"
          ]
        }
      ]
    },
    {
      "cell_type": "markdown",
      "source": [
        "f. Create pandas series with data and index and display the index values"
      ],
      "metadata": {
        "id": "mWxytZrG2I6R"
      }
    },
    {
      "cell_type": "code",
      "source": [
        "dff=pd.DataFrame()\n",
        "n=int(input(\"enter the no of columns\"))\n",
        "m=int(input(\"no of rows\"))\n",
        "\n",
        "lower_limit=int(input(\"enter_lower_limit\"))\n",
        "upper_limit=int(input(\"enter_right_limit\"))\n",
        "\n",
        "\n",
        "temp=65\n",
        "for i in range(m):\n",
        "  dff[chr(temp+i)]=np.random.randint(lower_limit,upper_limit,n)\n",
        "\n",
        "\n",
        "print(dff)"
      ],
      "metadata": {
        "colab": {
          "base_uri": "https://localhost:8080/"
        },
        "id": "rJ4NU9gAHSS4",
        "outputId": "c544d236-9b3f-4a7c-85eb-38985f5ff4a7"
      },
      "execution_count": 59,
      "outputs": [
        {
          "output_type": "stream",
          "name": "stdout",
          "text": [
            "enter the no of columns20\n",
            "no of rows20\n",
            "enter_lower_limit1\n",
            "enter_right_limit100\n",
            "     A   B   C   D   E   F   G   H   I   J   K   L   M   N   O   P   Q   R  \\\n",
            "0   37   1  71  52  61  24  72  86  95  85  38  81   2  60  65  85  76  68   \n",
            "1   89  12  23  66  31  44  19  44  10  48  23  56  46  72  89  94  28  47   \n",
            "2   85  55  75  43  48  68  53   8  25  61  53  57  11  19  91  57  76  39   \n",
            "3   11  15  17  34  84  50  14   5   3  32  24  28  48   8  82  45  84  41   \n",
            "4   85  16  28  35  93   5  88  51  98  77  37  50   4  12   4  78  84  10   \n",
            "5   85  97  95  62   4  52   5  15   8  73  10  27  36  29  19  45  24  16   \n",
            "6   76  14  18  53  92   9  84  46  64  33  98  19  49  79  20  71  61  40   \n",
            "7    6  44  57  41  19  49  35  55  27  44  13  27  10  66  58  46  46  42   \n",
            "8   66  29  37  39  95  54  37  83  92  13  50  81  34  17  38  67  65  19   \n",
            "9   82  63  34  94  27  65  46  29  72  62  90  35  99  57   2  92  78  18   \n",
            "10  97  98  83  43  43  41  82  21  41   1  90  82  99  61  43  53   5  80   \n",
            "11  57  15   6  50  60   1  67  34  33  50  13  47  80  73  11  62  75  50   \n",
            "12  45  78   9  88  15  32  40  32  51  58  18  17  64  64   1  67  19  51   \n",
            "13  69  39  46  95  98  70   4  53  87  64  69  42  37  74   5  43  85  94   \n",
            "14  54  39  37  94  54  56  26  27  26  38  35  61  30   7  61  82  88  28   \n",
            "15  43  49  20  62  47  39  44  33  99  10  62  68  55  93  71  76  71  99   \n",
            "16   2  66  27  82  16  35  68  32  89  69  99  94  43  46   8   3  23  30   \n",
            "17   3  78   6  26  88  34  18  31  39  80  98  86  40  34  87  41  74  32   \n",
            "18  61  96  68  85   9  59  38  31  27  35  63  83  37  39  80  89  73  76   \n",
            "19  78  31  11  16  84  14   4  94  89  98   1  73  86  67  56  33  42  57   \n",
            "\n",
            "     S   T  \n",
            "0   93   5  \n",
            "1   22  15  \n",
            "2   22  23  \n",
            "3   36  20  \n",
            "4   61  88  \n",
            "5   56  86  \n",
            "6   77  92  \n",
            "7   87  99  \n",
            "8   78   7  \n",
            "9   67   1  \n",
            "10  42  87  \n",
            "11  46  96  \n",
            "12  81  47  \n",
            "13   6   7  \n",
            "14  99  99  \n",
            "15  18   8  \n",
            "16  99  82  \n",
            "17  45  95  \n",
            "18  87  35  \n",
            "19  36  14  \n"
          ]
        }
      ]
    },
    {
      "cell_type": "markdown",
      "source": [
        "g. Create a data frame with columns at least 5 observations\n",
        "\n",
        "i. Select a particular column from the DataFrame\n",
        "\n",
        "ii. Summarize the data frame and observe the stats of the DataFrame created\n",
        "\n",
        "iii. Observe the mean and standard deviation of the data frame and print the values. \n"
      ],
      "metadata": {
        "id": "Cc4iAZne2Mb5"
      }
    },
    {
      "cell_type": "code",
      "source": [
        "# use that dff here\n",
        "\n",
        "randColIndex=np.random.randint(0,n)\n",
        "print(\"picked random column number\",randColIndex)\n",
        "print()\n",
        "\n",
        "print(\"printing that picked random column\")\n",
        "\n",
        "print(dff[chr(65+randColIndex)])\n",
        "\n"
      ],
      "metadata": {
        "colab": {
          "base_uri": "https://localhost:8080/"
        },
        "id": "deEjSVeTDOzc",
        "outputId": "6d53a934-b247-4743-b362-a6ce7f4b1fb1"
      },
      "execution_count": 63,
      "outputs": [
        {
          "output_type": "stream",
          "name": "stdout",
          "text": [
            "picked random column number 4\n",
            "\n",
            "printing that picked random column\n",
            "0     61\n",
            "1     31\n",
            "2     48\n",
            "3     84\n",
            "4     93\n",
            "5      4\n",
            "6     92\n",
            "7     19\n",
            "8     95\n",
            "9     27\n",
            "10    43\n",
            "11    60\n",
            "12    15\n",
            "13    98\n",
            "14    54\n",
            "15    47\n",
            "16    16\n",
            "17    88\n",
            "18     9\n",
            "19    84\n",
            "Name: E, dtype: int64\n"
          ]
        }
      ]
    },
    {
      "cell_type": "code",
      "source": [
        "print(\"description about the data that we have\")\n",
        "print()\n",
        "\n",
        "print(dff.describe())"
      ],
      "metadata": {
        "colab": {
          "base_uri": "https://localhost:8080/"
        },
        "id": "M50PVx4f2QHs",
        "outputId": "8cad1063-455a-464f-92b1-ebb1bcb6e374"
      },
      "execution_count": 61,
      "outputs": [
        {
          "output_type": "stream",
          "name": "stdout",
          "text": [
            "description about the data that we have\n",
            "\n",
            "               A          B          C          D          E          F  \\\n",
            "count  20.000000  20.000000  20.000000  20.000000  20.000000  20.000000   \n",
            "mean   56.550000  46.750000  38.400000  58.000000  53.400000  40.050000   \n",
            "std    30.819466  31.004032  27.434899  24.473401  32.277416  20.811118   \n",
            "min     2.000000   1.000000   6.000000  16.000000   4.000000   1.000000   \n",
            "25%    41.500000  15.750000  17.750000  40.500000  25.000000  30.000000   \n",
            "50%    63.500000  41.500000  31.000000  52.500000  51.000000  42.500000   \n",
            "75%    82.750000  69.000000  59.750000  82.750000  85.000000  54.500000   \n",
            "max    97.000000  98.000000  95.000000  95.000000  98.000000  70.000000   \n",
            "\n",
            "               G          H          I          J          K          L  \\\n",
            "count  20.000000  20.000000  20.000000  20.000000  20.000000  20.000000   \n",
            "mean   42.200000  40.500000  53.750000  51.550000  49.200000  55.700000   \n",
            "std    27.450626  24.433583  33.738741  26.073731  32.915522  24.672806   \n",
            "min     4.000000   5.000000   3.000000   1.000000   1.000000  17.000000   \n",
            "25%    18.750000  28.500000  26.750000  34.500000  21.750000  33.250000   \n",
            "50%    39.000000  32.500000  46.000000  54.000000  44.000000  56.500000   \n",
            "75%    67.250000  51.500000  89.000000  70.000000  74.250000  81.000000   \n",
            "max    88.000000  94.000000  99.000000  98.000000  99.000000  94.000000   \n",
            "\n",
            "               M          N         O          P          Q         R  \\\n",
            "count  20.000000  20.000000  20.00000  20.000000  20.000000  20.00000   \n",
            "mean   45.500000  48.850000  44.55000  61.450000  58.850000  46.85000   \n",
            "std    28.759438  26.362403  33.22408  23.195905  26.180095  25.55958   \n",
            "min     2.000000   7.000000   1.00000   3.000000   5.000000  10.00000   \n",
            "25%    33.000000  26.500000  10.25000  45.000000  38.500000  29.50000   \n",
            "50%    41.500000  58.500000  49.50000  64.500000  72.000000  41.50000   \n",
            "75%    57.250000  68.250000  73.25000  79.000000  76.500000  59.75000   \n",
            "max    99.000000  93.000000  91.00000  94.000000  88.000000  99.00000   \n",
            "\n",
            "               S          T  \n",
            "count  20.000000  20.000000  \n",
            "mean   57.900000  50.300000  \n",
            "std    29.096753  39.808886  \n",
            "min     6.000000   1.000000  \n",
            "25%    36.000000  12.500000  \n",
            "50%    58.500000  41.000000  \n",
            "75%    82.500000  89.000000  \n",
            "max    99.000000  99.000000  \n"
          ]
        }
      ]
    },
    {
      "cell_type": "code",
      "source": [
        ""
      ],
      "metadata": {
        "id": "ACJq8MDFMgq8"
      },
      "execution_count": 61,
      "outputs": []
    },
    {
      "cell_type": "code",
      "source": [
        "print(\"printing means\")\n",
        "print()\n",
        "print()\n",
        "print(dff.mean())"
      ],
      "metadata": {
        "colab": {
          "base_uri": "https://localhost:8080/"
        },
        "id": "JAkk1ZRBMVTz",
        "outputId": "09a54c74-5d76-45d2-bb01-23893de44e7a"
      },
      "execution_count": 62,
      "outputs": [
        {
          "output_type": "stream",
          "name": "stdout",
          "text": [
            "printing means\n",
            "\n",
            "\n",
            "A    56.55\n",
            "B    46.75\n",
            "C    38.40\n",
            "D    58.00\n",
            "E    53.40\n",
            "F    40.05\n",
            "G    42.20\n",
            "H    40.50\n",
            "I    53.75\n",
            "J    51.55\n",
            "K    49.20\n",
            "L    55.70\n",
            "M    45.50\n",
            "N    48.85\n",
            "O    44.55\n",
            "P    61.45\n",
            "Q    58.85\n",
            "R    46.85\n",
            "S    57.90\n",
            "T    50.30\n",
            "dtype: float64\n"
          ]
        }
      ]
    }
  ]
}